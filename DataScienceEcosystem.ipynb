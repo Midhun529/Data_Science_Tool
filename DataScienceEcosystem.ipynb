{
 "cells": [
  {
   "cell_type": "markdown",
   "id": "46609e8a-f3ff-492d-8770-71b2cad7e548",
   "metadata": {},
   "source": [
    "# Data Science Tools and Ecosystem"
   ]
  },
  {
   "cell_type": "markdown",
   "id": "bdcb30b7-87fb-4441-9b0b-f6362c4591d1",
   "metadata": {},
   "source": [
    "In this notebook, Data Science Tools and Ecosystem are summarized."
   ]
  },
  {
   "cell_type": "markdown",
   "id": "1a8a7007-91c5-4c4f-abe0-b6b9c1d9fa57",
   "metadata": {},
   "source": [
    "**Objectives:**\n",
    "- popular languages that Data Scientists use\n",
    "- commonly used libraries used by Data Scientists\n",
    "- Data Science Tools\n",
    "- evaluating arithmetic expressions in Python"
   ]
  },
  {
   "cell_type": "markdown",
   "id": "027f968b-fb08-4107-997f-e11657c1655b",
   "metadata": {},
   "source": [
    "Some of the popular languages that Data Scientists use are:\n",
    "\n",
    "1. Python \n",
    "2. SQL\n",
    "3. R\n",
    "4. Scala\n",
    "5. Java\n",
    "6. julia"
   ]
  },
  {
   "cell_type": "markdown",
   "id": "a9cc3748-1634-438c-b601-b32e2c6702f8",
   "metadata": {},
   "source": [
    "Some of the commonly used libraries used by Data Scientists include:\n",
    "\n",
    "1. NumPy\n",
    "2. Matplotlib\n",
    "3. Pandas\n",
    "4. SciPy\n"
   ]
  },
  {
   "cell_type": "markdown",
   "id": "c13b87a1-b580-44c4-bbb1-5a2879995271",
   "metadata": {},
   "source": [
    "| Data Science Tools   | \n",
    "| -------------------- |\n",
    "| Jupyter Notebooks  | \n",
    "| R Studio | \n",
    "|  Anaconda  | \n",
    "|  VS Studio  | "
   ]
  },
  {
   "cell_type": "markdown",
   "id": "53c49267-0518-4e29-97d9-bdc81cbb7054",
   "metadata": {},
   "source": [
    "### Below are a few examples of evaluating arithmetic expressions in Python"
   ]
  },
  {
   "cell_type": "code",
   "execution_count": 32,
   "id": "b53a819a-b9c7-4d63-9e2a-ee8d86d2e7ff",
   "metadata": {},
   "outputs": [
    {
     "data": {
      "text/plain": [
       "17"
      ]
     },
     "execution_count": 32,
     "metadata": {},
     "output_type": "execute_result"
    }
   ],
   "source": [
    "# This a simple arithmetic expression to mutiply then add integers.\n",
    "\n",
    "(3*4)+5"
   ]
  },
  {
   "cell_type": "code",
   "execution_count": 34,
   "id": "b974c4b2-71f7-48cd-9f8b-f4c42dbed731",
   "metadata": {},
   "outputs": [
    {
     "name": "stdout",
     "output_type": "stream",
     "text": [
      "hour = \t 3.3333333333333335\n"
     ]
    }
   ],
   "source": [
    "# This will convert 200 minutes to hours by diving by 60.\n",
    "\n",
    "minute = 200\n",
    "\n",
    "hour = minute/60\n",
    "\n",
    "print( \"hour = \\t\", hour)\n",
    "\n"
   ]
  },
  {
   "cell_type": "markdown",
   "id": "a2028aea-e6f1-4d7f-a28e-d36098dc3e8a",
   "metadata": {},
   "source": [
    "#### Author \n",
    "Midhun Chandran"
   ]
  },
  {
   "cell_type": "code",
   "execution_count": null,
   "id": "2e59bc6e-2c03-4fb5-97bc-6c9b3e40d726",
   "metadata": {},
   "outputs": [],
   "source": []
  }
 ],
 "metadata": {
  "kernelspec": {
   "display_name": "Python 3 (ipykernel)",
   "language": "python",
   "name": "python3"
  },
  "language_info": {
   "codemirror_mode": {
    "name": "ipython",
    "version": 3
   },
   "file_extension": ".py",
   "mimetype": "text/x-python",
   "name": "python",
   "nbconvert_exporter": "python",
   "pygments_lexer": "ipython3",
   "version": "3.12.4"
  }
 },
 "nbformat": 4,
 "nbformat_minor": 5
}
